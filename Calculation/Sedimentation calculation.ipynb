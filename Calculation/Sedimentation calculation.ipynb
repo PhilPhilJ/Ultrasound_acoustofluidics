{
 "cells": [
  {
   "cell_type": "markdown",
   "id": "35f691bc-6721-4196-9f25-0cd89f288b14",
   "metadata": {},
   "source": [
    "### Sedimantation velocities"
   ]
  },
  {
   "cell_type": "code",
   "execution_count": 3,
   "id": "e2fca53e-097f-45ab-aea7-b77e499c2eb2",
   "metadata": {
    "tags": []
   },
   "outputs": [],
   "source": [
    "import numpy as np\n",
    "import matplotlib.pyplot as plt\n",
    "from scipy.optimize import curve_fit\n",
    "from matplotlib.offsetbox import (OffsetImage, AnnotationBbox)"
   ]
  },
  {
   "cell_type": "code",
   "execution_count": 4,
   "id": "a48b9b42-2183-4578-a484-c7a12e8fd6d8",
   "metadata": {
    "tags": []
   },
   "outputs": [],
   "source": [
    "xs = np.array([0, 140, 60, 90, 190, 25, 45, 90, 15, 170])\n",
    "vs = np.array([1.370, 0.8644, 0.9704, 0.9080, 1.185, 1.487, 1.667, 1.049, 1.419, 0.5671])\n",
    "mean_v = np.mean(vs)\n",
    "sd_v = np.std(vs)"
   ]
  },
  {
   "cell_type": "code",
   "execution_count": 5,
   "id": "66ce9465-781f-463a-86d8-b8b3b6533b49",
   "metadata": {
    "tags": []
   },
   "outputs": [
    {
     "data": {
      "image/png": "[encoded data removed]",
      "text/plain": [
       "<Figure size 640x480 with 1 Axes>"
      ]
     },
     "metadata": {},
     "output_type": "display_data"
    }
   ],
   "source": [
    "plt.scatter(xs, vs, color=\"black\")\n",
    "\n",
    "plt.xlabel(r\"Distance from center ($\\mathrm{\\mu m}$)  \")\n",
    "plt.ylabel(r\"v ($\\mathrm{\\mu m \\,s^{-1}}$)\")\n",
    "\n",
    "plt.hlines(y=mean_v, xmin=np.min(xs)-10, xmax=np.max(xs)+10)\n",
    "plt.hlines(y=mean_v + sd_v, xmin=np.min(xs)-10, xmax=np.max(xs)+10, color= \"tab:red\", linestyle = \"dashed\")\n",
    "plt.hlines(y=mean_v - sd_v, xmin=np.min(xs)-10, xmax=np.max(xs)+10, color= \"tab:red\", linestyle = \"dashed\")\n",
    "plt.hlines(y=mean_v - sd_v + 0.02, xmin=100, xmax=110, color= \"black\")\n",
    "plt.hlines(y=mean_v - 0.02, xmin=100, xmax=110, color= \"black\")\n",
    "\n",
    "plt.hlines(y=mean_v + sd_v - 0.02, xmin=100, xmax=110, color= \"black\")\n",
    "plt.hlines(y=mean_v + 0.02, xmin=100, xmax=110, color= \"black\")\n",
    "plt.vlines(x=105, ymin=mean_v + 0.02, ymax=mean_v + sd_v -0.02, color=\"black\")\n",
    "plt.vlines(x=105, ymin=mean_v - sd_v +0.02, ymax=mean_v - 0.02, color=\"black\")\n",
    "\n",
    "plt.text(-8, 1.05, s=\"Mean velocity =\" + str(round(mean_v,2)) + \" \" + r\"$\\mathrm{\\mu m \\,s^{-1}}$\", color=\"tab:blue\")\n",
    "plt.text(108, 1.27, s=r\"$\\mathrm{\\sigma}$\", color=\"black\")\n",
    "plt.text(108, 0.96, s=r\"$\\mathrm{\\sigma}$\", color=\"black\")\n",
    "\n",
    "plt.xlim(np.min(xs)-10, np.max(xs)+10)\n",
    "plt.ylim(mean_v - 2*sd_v, mean_v + 2*sd_v)\n",
    "\n",
    "\n",
    "plt.savefig(r'C:\\Users\\Phili\\OneDrive - Danmarks Tekniske Universitet\\Bachelorprojekt\\Images for Overleaf\\sedimentation velocities.png', dpi=350,bbox_inches = \"tight\")"
   ]
  },
  {
   "cell_type": "code",
   "execution_count": 20,
   "id": "7a2753c6-7ba5-4ff9-8af7-a57180661a0a",
   "metadata": {
    "tags": []
   },
   "outputs": [
    {
     "name": "stdout",
     "output_type": "stream",
     "text": [
      "-6.502384444168673e-06\n"
     ]
    }
   ],
   "source": [
    "#theoretical value\n",
    "m = 1.54E-14\n",
    "r = (4.33/2)*1E-6\n",
    "rho = 998\n",
    "g = 9.82\n",
    "eta = 1E-3\n",
    "\n",
    "v = ((m - rho * 4/3 * np.pi * r**3) * g) / (6 * np.pi * eta * r)\n",
    "print(v)"
   ]
  },
  {
   "cell_type": "code",
   "execution_count": 21,
   "id": "f28b7e5d-a392-4c21-b6fc-da4ea52f6c0a",
   "metadata": {},
   "outputs": [
    {
     "data": {
      "text/plain": [
       "2.165e-06"
      ]
     },
     "execution_count": 21,
     "metadata": {},
     "output_type": "execute_result"
    }
   ],
   "source": []
  },
  {
   "cell_type": "code",
   "execution_count": null,
   "id": "04458a73-702f-453a-b117-2a47d8c49cfa",
   "metadata": {},
   "outputs": [],
   "source": []
  }
 ],
 "metadata": {
  "kernelspec": {
   "display_name": "Python 3 (ipykernel)",
   "language": "python",
   "name": "python3"
  },
  "language_info": {
   "codemirror_mode": {
    "name": "ipython",
    "version": 3
   },
   "file_extension": ".py",
   "mimetype": "text/x-python",
   "name": "python",
   "nbconvert_exporter": "python",
   "pygments_lexer": "ipython3",
   "version": "3.9.18"
  }
 },
 "nbformat": 4,
 "nbformat_minor": 5
}
