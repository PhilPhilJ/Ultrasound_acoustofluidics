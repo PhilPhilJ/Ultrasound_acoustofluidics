{
 "cells": [
  {
   "cell_type": "code",
   "execution_count": 77,
   "metadata": {},
   "outputs": [],
   "source": [
    "import numpy as np\n",
    "import matplotlib.pyplot as plt"
   ]
  },
  {
   "cell_type": "code",
   "execution_count": 78,
   "metadata": {},
   "outputs": [
    {
     "name": "stdout",
     "output_type": "stream",
     "text": [
      "The compliance per length of silicone is:  3.9269908169872413e-13\n",
      "The compliance per length of plastic is:  7.0885098929963875e-19\n"
     ]
    }
   ],
   "source": [
    "# calculate the compliance per length of silicone and plastic tubes   \n",
    "\n",
    "#Silicone\n",
    "\n",
    "#Material properties. Found on https://www.azom.com/properties.aspx?ArticleID=920\n",
    "E_s = np.linspace(0.001,0.05,100)*1E9 #young's modulus\n",
    "E_s = E_s[0]\n",
    "r_s = 0.5E-3 #radius\n",
    "t_s = 2E-3 #thickness\n",
    "\n",
    "#compliance per length\n",
    "compliance_per_length_silicone = (2* np.pi * r_s**3) / (E_s*t_s)\n",
    "print(\"The compliance per length of silicone is: \",compliance_per_length_silicone)\n",
    "\n",
    "#Plastic\n",
    "\n",
    "#Material properties. Found on https://en.wikipedia.org/wiki/Perfluoroalkoxy_alkane\n",
    "E_p = 586E9 #young's modulus\n",
    "r_p = 0.76/2 * 1E-3 #radius\n",
    "t_p = (1.59 - 0.76) * 1E-3 #thickness\n",
    "\n",
    "#compliance per length\n",
    "compliance_per_length_plastic = (2* np.pi * r_p**3) / (E_p*t_p)\n",
    "print(\"The compliance per length of plastic is: \",compliance_per_length_plastic)\n",
    "\n",
    "\n"
   ]
  },
  {
   "cell_type": "code",
   "execution_count": 79,
   "metadata": {},
   "outputs": [
    {
     "name": "stdout",
     "output_type": "stream",
     "text": [
      "The compliance of silicon tube of 0.2 m is:  7.853981633974483e-14\n"
     ]
    }
   ],
   "source": [
    "#calculate the compliance of silicon\n",
    "\n",
    "#Length of the silicon tubes\n",
    "L = 0.2\n",
    "\n",
    "C = compliance_per_length_silicone * L\n",
    "print(\"The compliance of silicon tube of\", L, \"m is: \",C)"
   ]
  },
  {
   "cell_type": "code",
   "execution_count": 80,
   "metadata": {},
   "outputs": [
    {
     "name": "stdout",
     "output_type": "stream",
     "text": [
      "5.55e+10\n",
      "8.15e+09\n"
     ]
    }
   ],
   "source": [
    "#calculate the resistance\n",
    "\n",
    "#Resistance of the silicon tubes\n",
    "R_silicone = 1E-3 * (8 / np.pi) * (L/r_s**4)\n",
    "\n",
    "R_capillary = 1E-3 * 28.4 * (50E-3/(400**4*1E-24)) #Resistance of the capillary tubes 50 mm in length with side length 400 um\n",
    "\n",
    "# Format the number in scientific notation\n",
    "\n",
    "print(\"{:.2e}\".format(R_capillary))\n",
    "print(\"{:.2e}\".format(R_silicone))"
   ]
  },
  {
   "cell_type": "code",
   "execution_count": 81,
   "metadata": {},
   "outputs": [
    {
     "name": "stdout",
     "output_type": "stream",
     "text": [
      "The tau of the silicone tube is:  0.0006399999999999999\n",
      "The tau of the capillary tube is:  0.004356505437595221\n"
     ]
    }
   ],
   "source": [
    "#Calculate the taus\n",
    "tau1 = R_silicone * C\n",
    "tau2 = R_capillary * C\n",
    "\n",
    "print(\"The tau of the silicone tube is: \", tau1)\n",
    "print(\"The tau of the capillary tube is: \", tau2)"
   ]
  },
  {
   "cell_type": "code",
   "execution_count": 82,
   "metadata": {},
   "outputs": [],
   "source": [
    "#defining the pressure function\n",
    "def Compliance_pressure(t):\n",
    "    return p_star + delta_p*(tau2/(tau1 + tau2))*np.exp(-(1 / tau1 + 1 / tau2)*t)"
   ]
  },
  {
   "cell_type": "code",
   "execution_count": 91,
   "metadata": {},
   "outputs": [],
   "source": [
    "#defining the parameters\n",
    "t = np.linspace(0,0.01,10000)\n",
    "delta_p = 10\n",
    "p_star = 0"
   ]
  },
  {
   "cell_type": "code",
   "execution_count": 92,
   "metadata": {},
   "outputs": [
    {
     "data": {
      "text/plain": [
       "[<matplotlib.lines.Line2D at 0x2e1873a6310>]"
      ]
     },
     "execution_count": 92,
     "metadata": {},
     "output_type": "execute_result"
    },
    {
     "data": {
      "image/png": "[encoded data removed]",
      "text/plain": [
       "<Figure size 640x480 with 1 Axes>"
      ]
     },
     "metadata": {},
     "output_type": "display_data"
    }
   ],
   "source": [
    "#create subplot\n",
    "fig, ax = plt.subplots()\n",
    "ax.plot(t,Compliance_pressure(t))"
   ]
  }
 ],
 "metadata": {
  "kernelspec": {
   "display_name": "acoustofluidic",
   "language": "python",
   "name": "python3"
  },
  "language_info": {
   "codemirror_mode": {
    "name": "ipython",
    "version": 3
   },
   "file_extension": ".py",
   "mimetype": "text/x-python",
   "name": "python",
   "nbconvert_exporter": "python",
   "pygments_lexer": "ipython3",
   "version": "3.11.4"
  }
 },
 "nbformat": 4,
 "nbformat_minor": 2
}
