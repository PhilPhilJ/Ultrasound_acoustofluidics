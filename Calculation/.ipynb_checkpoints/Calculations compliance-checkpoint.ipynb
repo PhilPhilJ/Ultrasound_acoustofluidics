{
 "cells": [
  {
   "cell_type": "code",
   "execution_count": 31,
   "id": "b5a65668-2621-4d62-89eb-eb321113dd51",
   "metadata": {
    "tags": []
   },
   "outputs": [],
   "source": [
    "import numpy as np"
   ]
  },
  {
   "cell_type": "code",
   "execution_count": 60,
   "id": "0ebd9630-b1b5-427b-b1db-a7fba5f35115",
   "metadata": {
    "tags": []
   },
   "outputs": [
    {
     "name": "stdout",
     "output_type": "stream",
     "text": [
      "E = 1.0000e+06\n",
      "C_hyd = 1.5708e-13\n"
     ]
    }
   ],
   "source": [
    "### C_hyd\n",
    "\n",
    "#youngs modulus\n",
    "E = 0.001*10**9\n",
    "print('E = {0:1.4e}'.format(E))\n",
    "#radius\n",
    "r = 1/2 * 10**-3\n",
    "\n",
    "# thickness\n",
    "t = 0.001\n",
    "\n",
    "#tubelength\n",
    "L1 = 0.2\n",
    "\n",
    "C_hyd = 2 * np.pi * L1 * r**3/(E * t)\n",
    "print('C_hyd = {0:1.4e}'.format(C_hyd))"
   ]
  },
  {
   "cell_type": "code",
   "execution_count": 61,
   "id": "22a1c7bc-621c-4de8-99ff-259b3f707b0b",
   "metadata": {
    "tags": []
   },
   "outputs": [
    {
     "name": "stdout",
     "output_type": "stream",
     "text": [
      "0.009000000000000001\n"
     ]
    }
   ],
   "source": [
    "###R_hyd\n",
    "\n",
    "#viscosity\n",
    "eta = 9 * 10**-3\n",
    "\n",
    "#length of tube\n",
    "L2 = 50 * 10**-3\n",
    "\n",
    "#side length\n",
    "h = 400 * 10**-6\n",
    "\n",
    "R_hyd = 28.4 * eta * L2 / h**4\n",
    "print(eta)"
   ]
  },
  {
   "cell_type": "code",
   "execution_count": 62,
   "id": "dab5c9d1-ab7e-43c5-9493-04209f0ec727",
   "metadata": {
    "tags": []
   },
   "outputs": [],
   "source": [
    "tau = R_hyd * C_hyd"
   ]
  },
  {
   "cell_type": "code",
   "execution_count": 63,
   "id": "e98220e9-087f-40ac-9318-e93df6094e93",
   "metadata": {
    "tags": []
   },
   "outputs": [
    {
     "name": "stdout",
     "output_type": "stream",
     "text": [
      "tau = 7.8417e-02\n"
     ]
    }
   ],
   "source": [
    "print('tau = {0:1.4e}'.format(tau))"
   ]
  },
  {
   "cell_type": "code",
   "execution_count": null,
   "id": "dc5687d5-c2c5-4ea7-aaf2-8aa84a969c8f",
   "metadata": {},
   "outputs": [],
   "source": []
  },
  {
   "cell_type": "code",
   "execution_count": null,
   "id": "74f802e9-1138-4423-a9b5-98927a85af98",
   "metadata": {},
   "outputs": [],
   "source": []
  }
 ],
 "metadata": {
  "kernelspec": {
   "display_name": "Python 3 (ipykernel)",
   "language": "python",
   "name": "python3"
  },
  "language_info": {
   "codemirror_mode": {
    "name": "ipython",
    "version": 3
   },
   "file_extension": ".py",
   "mimetype": "text/x-python",
   "name": "python",
   "nbconvert_exporter": "python",
   "pygments_lexer": "ipython3",
   "version": "3.9.18"
  }
 },
 "nbformat": 4,
 "nbformat_minor": 5
}
