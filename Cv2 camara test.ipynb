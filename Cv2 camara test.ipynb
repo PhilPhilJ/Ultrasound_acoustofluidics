{
 "cells": [
  {
   "cell_type": "code",
   "execution_count": 1,
   "id": "ab24e366-1988-4732-bb98-0ddf20b0c7de",
   "metadata": {},
   "outputs": [
    {
     "name": "stdout",
     "output_type": "stream",
     "text": [
      "Intel MKL WARNING: Support of Intel(R) Streaming SIMD Extensions 4.2 (Intel(R) SSE4.2) enabled only processors has been deprecated. Intel oneAPI Math Kernel Library 2025.0 will require Intel(R) Advanced Vector Extensions (Intel(R) AVX) instructions.\n",
      "Intel MKL WARNING: Support of Intel(R) Streaming SIMD Extensions 4.2 (Intel(R) SSE4.2) enabled only processors has been deprecated. Intel oneAPI Math Kernel Library 2025.0 will require Intel(R) Advanced Vector Extensions (Intel(R) AVX) instructions.\n"
     ]
    }
   ],
   "source": [
    "import cv2"
   ]
  },
  {
   "cell_type": "markdown",
   "id": "7fc036c1-d60b-4503-b5c3-9675ded04bd1",
   "metadata": {},
   "source": [
    "This starts the camara"
   ]
  },
  {
   "cell_type": "code",
   "execution_count": 2,
   "id": "86823c0a-9623-4ff9-ad09-fae52d183e62",
   "metadata": {},
   "outputs": [],
   "source": [
    "cap = cv2.VideoCapture(0, cv2.CAP_DSHOW)"
   ]
  },
  {
   "cell_type": "markdown",
   "id": "b0a3dc62-62ac-4f54-acc8-e97c25e8ce7d",
   "metadata": {},
   "source": [
    "Sets resolution. Guess must be native"
   ]
  },
  {
   "cell_type": "code",
   "execution_count": 3,
   "id": "194f6463-6c45-4dff-b5b6-b22565286dd5",
   "metadata": {},
   "outputs": [
    {
     "data": {
      "text/plain": [
       "False"
      ]
     },
     "execution_count": 3,
     "metadata": {},
     "output_type": "execute_result"
    }
   ],
   "source": [
    "cap.set(cv2.CAP_PROP_FRAME_WIDTH, 1280)\n",
    "cap.set(cv2.CAP_PROP_FRAME_HEIGHT, 720)"
   ]
  },
  {
   "cell_type": "markdown",
   "id": "ab1ee687-c9a2-43bd-8ed5-5251fdb6893a",
   "metadata": {},
   "source": [
    "First line has something to do with file format $\\newline$\n",
    "Second names the file, sets fremerate (has to native too I guess) and resolution again."
   ]
  },
  {
   "cell_type": "code",
   "execution_count": 4,
   "id": "c1e902b3-dd76-45fa-a364-d72721ffdbca",
   "metadata": {},
   "outputs": [],
   "source": [
    "fourcc = cv2.VideoWriter_fourcc(\"m\", \"p\", \"4\", \"v\")\n",
    "writer = cv2.VideoWriter(\"testrecording.mp4\", fourcc, 30, (1280, 720))"
   ]
  },
  {
   "cell_type": "markdown",
   "id": "e70ee3bc-5080-4137-9e37-9c81efd42556",
   "metadata": {},
   "source": [
    "Not really sure what everything does but starts the video feed and it need to be started manually."
   ]
  },
  {
   "cell_type": "code",
   "execution_count": null,
   "id": "69f3cfc8-4f38-4f8e-93b7-6307698b5699",
   "metadata": {},
   "outputs": [],
   "source": [
    "recording = False\n",
    "while True:\n",
    "    ret, frame = cap.read()\n",
    "    \n",
    "    if ret:\n",
    "        cv2.imshow(\"video\", frame)\n",
    "        if recording:\n",
    "            writer.write(frame)\n",
    "    \n",
    "    key = cv2.waitKey(1)\n",
    "    if key == ord(\"q\"):\n",
    "        break\n",
    "    elif key == ord(\"r\"):\n",
    "        recording = not recording\n",
    "        print(f\"Recording: {recording}\")\n",
    "\n",
    "cap.release()\n",
    "writer.release()\n",
    "\n",
    "cv2.destroyAllWindows()"
   ]
  },
  {
   "cell_type": "code",
   "execution_count": null,
   "id": "3714c896-52b0-407b-aa1d-bc2628f2b8c8",
   "metadata": {},
   "outputs": [],
   "source": []
  }
 ],
 "metadata": {
  "kernelspec": {
   "display_name": "Python 3 (ipykernel)",
   "language": "python",
   "name": "python3"
  },
  "language_info": {
   "codemirror_mode": {
    "name": "ipython",
    "version": 3
   },
   "file_extension": ".py",
   "mimetype": "text/x-python",
   "name": "python",
   "nbconvert_exporter": "python",
   "pygments_lexer": "ipython3",
   "version": "3.11.4"
  }
 },
 "nbformat": 4,
 "nbformat_minor": 5
}
