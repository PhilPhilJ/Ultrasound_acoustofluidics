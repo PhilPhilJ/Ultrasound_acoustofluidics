{
 "cells": [
  {
   "cell_type": "markdown",
   "id": "cf35b353-c73a-4214-93ed-28c8e09cdcb0",
   "metadata": {},
   "source": [
    "## Test"
   ]
  },
  {
   "cell_type": "code",
   "execution_count": 1,
   "id": "1eb9169f-d963-4cbe-86a3-34e2cd26afa1",
   "metadata": {},
   "outputs": [
    {
     "data": {
      "text/plain": [
       "'lol'"
      ]
     },
     "execution_count": 1,
     "metadata": {},
     "output_type": "execute_result"
    }
   ],
   "source": [
    "\"lol\""
   ]
  },
  {
   "cell_type": "code",
   "execution_count": null,
   "id": "55d188a5-d2f3-489f-b22e-1172d5f65226",
   "metadata": {},
   "outputs": [],
   "source": []
  }
 ],
 "metadata": {
  "kernelspec": {
   "display_name": "Python 3 (ipykernel)",
   "language": "python",
   "name": "python3"
  },
  "language_info": {
   "codemirror_mode": {
    "name": "ipython",
    "version": 3
   },
   "file_extension": ".py",
   "mimetype": "text/x-python",
   "name": "python",
   "nbconvert_exporter": "python",
   "pygments_lexer": "ipython3",
   "version": "3.9.18"
  }
 },
 "nbformat": 4,
 "nbformat_minor": 5
}
