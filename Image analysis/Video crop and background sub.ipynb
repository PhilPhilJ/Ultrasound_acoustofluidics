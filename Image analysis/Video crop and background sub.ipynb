{
 "cells": [
  {
   "cell_type": "code",
   "execution_count": 1,
   "id": "216260db-4555-44fa-b02f-ba5ee3ccae79",
   "metadata": {
    "tags": []
   },
   "outputs": [],
   "source": [
    "import cv2\n",
    "import numpy as np\n",
    "import time"
   ]
  },
  {
   "cell_type": "code",
   "execution_count": 2,
   "id": "49e8217c-ad59-4902-8668-e460a9e9cdff",
   "metadata": {
    "tags": []
   },
   "outputs": [],
   "source": [
    "# Define the cropping coordinates\n",
    "x1, y1 = 1250, 1000\n",
    "x2, y2 = 2400, 3000"
   ]
  },
  {
   "cell_type": "code",
   "execution_count": 3,
   "id": "720ac042-659c-4859-bc1d-3e8e6b06dcbc",
   "metadata": {
    "tags": []
   },
   "outputs": [],
   "source": [
    "# Read the input video\n",
    "input_video = cv2.VideoCapture(r\"C:\\Users\\Phili\\OneDrive - Danmarks Tekniske Universitet\\Bachelorprojekt\\Videoer\\Algae_Vid_5.mp4\")"
   ]
  },
  {
   "cell_type": "code",
   "execution_count": 4,
   "id": "2dd28d0c-e6d6-4c00-ab96-bfd724048cfa",
   "metadata": {
    "tags": []
   },
   "outputs": [],
   "source": [
    "# Get video properties\n",
    "width = int(input_video.get(cv2.CAP_PROP_FRAME_WIDTH))\n",
    "height = int(input_video.get(cv2.CAP_PROP_FRAME_HEIGHT))\n",
    "fps = int(input_video.get(cv2.CAP_PROP_FPS))"
   ]
  },
  {
   "cell_type": "code",
   "execution_count": 5,
   "id": "d809f0e2-be4e-43a1-9df9-0048d0f57717",
   "metadata": {
    "tags": []
   },
   "outputs": [],
   "source": [
    "# Set up the output video\n",
    "fourcc = cv2.VideoWriter_fourcc(*'mp4v')\n",
    "output_video = cv2.VideoWriter(r\"C:\\Users\\Phili\\OneDrive - Danmarks Tekniske Universitet\\Bachelorprojekt\\Videoer\\Algae_Vid_6crop and back.mp4\",fourcc, fps, (x2 - x1, y2 - y1))\n",
    "fgbg = cv2.createBackgroundSubtractorMOG2()"
   ]
  },
  {
   "cell_type": "code",
   "execution_count": 6,
   "id": "e0c0815f-8356-42ce-99fb-bf8f562a2fc8",
   "metadata": {
    "tags": []
   },
   "outputs": [
    {
     "name": "stdout",
     "output_type": "stream",
     "text": [
      "Compute time is 9.219138145446777\n"
     ]
    }
   ],
   "source": [
    "# Process the video frames\n",
    "start_time = time.time()\n",
    "while True:\n",
    "    ret, frame = input_video.read()\n",
    "\n",
    "    if not ret:\n",
    "        break\n",
    "\n",
    "    # Crop the frame\n",
    "    cropped_frame = frame[y1:y2, x1:x2]\n",
    "\n",
    "    # Write the cropped frame to the output video\n",
    "    output_video.write(cropped_frame)\n",
    "\n",
    "    #Display the cropped frame (optional)\n",
    "    #cv2.imshow('Cropped Video', cropped_frame)\n",
    "\n",
    "    # Exit if 'q' key is pressed\n",
    "    if cv2.waitKey(1) & 0xFF == ord('q'):\n",
    "        break\n",
    "end_time = time.time()\n",
    "print(\"Compute time is \" + str(end_time - start_time))"
   ]
  },
  {
   "cell_type": "code",
   "execution_count": 7,
   "id": "c610be6f-641f-43e6-8762-7e497c59f9ef",
   "metadata": {
    "tags": []
   },
   "outputs": [],
   "source": [
    "output_video.release()\n",
    "input_video.release()\n",
    "cv2.destroyAllWindows()"
   ]
  },
  {
   "cell_type": "code",
   "execution_count": 11,
   "id": "67cd43c1-eaa8-4db1-b286-1ac0f072ac40",
   "metadata": {
    "tags": []
   },
   "outputs": [],
   "source": [
    "# Read the input video\n",
    "cap = cv2.VideoCapture(r\"C:\\Users\\Phili\\OneDrive - Danmarks Tekniske Universitet\\Bachelorprojekt\\Videoer\\Algae_Vid_6crop and back.mp4\")\n",
    "fgbg = cv2.createBackgroundSubtractorMOG2()"
   ]
  },
  {
   "cell_type": "code",
   "execution_count": 12,
   "id": "17790a43-8247-4294-877f-b5a8ed7b4fe2",
   "metadata": {
    "tags": []
   },
   "outputs": [],
   "source": [
    "# Set up the output video\n",
    "fps = int(cap.get(cv2.CAP_PROP_FPS))\n",
    "#cv2.namedWindow('frame',0)\n",
    "#cv2.resizeWindow('frame',300,300)\n",
    "fourcc = cv2.VideoWriter_fourcc(*'mp4v')\n",
    "out = cv2.VideoWriter(r\"C:\\Users\\Phili\\OneDrive - Danmarks Tekniske Universitet\\Bachelorprojekt\\Videoer\\Algae_Vid_6croppedBW.mp4\",fourcc, fps,(x2 - x1, y2 - y1),False)"
   ]
  },
  {
   "cell_type": "code",
   "execution_count": 13,
   "id": "f02c6163-0bc0-466c-bf71-023544698aae",
   "metadata": {
    "tags": []
   },
   "outputs": [],
   "source": [
    "while True:\n",
    "    ret, frame = cap.read()\n",
    "    if frame is None:\n",
    "        break\n",
    "    fgmask = fgbg.apply(frame)\n",
    "    #fgmask = cv.morphologyEx(fgmask, cv.MORPH_OPEN, kernel)\n",
    "\n",
    "    #cv2.imshow('Frame', frame)\n",
    "    #cv2.imshow('FG MASK Frame', fgmask)\n",
    "    out.write(fgmask)\n",
    "\n",
    "    keyboard = cv2.waitKey(30)\n",
    "    if keyboard == 'q' or keyboard == 27:\n",
    "        break\n",
    "\n",
    "\n",
    "out.release()\n",
    "cap.release()\n",
    "cv2.destroyAllWindows()"
   ]
  },
  {
   "cell_type": "code",
   "execution_count": null,
   "id": "8dc3bdd0-3f01-46d3-83e7-9f37c77797b2",
   "metadata": {
    "tags": []
   },
   "outputs": [],
   "source": []
  },
  {
   "cell_type": "code",
   "execution_count": null,
   "id": "1da91b30-8c36-4ed1-b861-9f73183e3c6c",
   "metadata": {},
   "outputs": [],
   "source": []
  }
 ],
 "metadata": {
  "kernelspec": {
   "display_name": "Python 3 (ipykernel)",
   "language": "python",
   "name": "python3"
  },
  "language_info": {
   "codemirror_mode": {
    "name": "ipython",
    "version": 3
   },
   "file_extension": ".py",
   "mimetype": "text/x-python",
   "name": "python",
   "nbconvert_exporter": "python",
   "pygments_lexer": "ipython3",
   "version": "3.9.18"
  }
 },
 "nbformat": 4,
 "nbformat_minor": 5
}
